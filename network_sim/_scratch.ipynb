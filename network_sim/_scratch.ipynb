{
 "cells": [
  {
   "cell_type": "code",
   "execution_count": 2,
   "id": "initial_id",
   "metadata": {
    "collapsed": true,
    "ExecuteTime": {
     "end_time": "2024-04-05T23:43:53.129691Z",
     "start_time": "2024-04-05T23:42:58.739772Z"
    }
   },
   "outputs": [
    {
     "ename": "KeyboardInterrupt",
     "evalue": "",
     "output_type": "error",
     "traceback": [
      "\u001B[1;31m---------------------------------------------------------------------------\u001B[0m",
      "\u001B[1;31mKeyboardInterrupt\u001B[0m                         Traceback (most recent call last)",
      "Cell \u001B[1;32mIn[2], line 21\u001B[0m\n\u001B[0;32m     18\u001B[0m current_population \u001B[38;5;241m=\u001B[39m \u001B[38;5;28mmax\u001B[39m(\u001B[38;5;241m0\u001B[39m, \u001B[38;5;28mround\u001B[39m(current_population, \u001B[38;5;241m2\u001B[39m))  \u001B[38;5;66;03m# Avoiding fractions of individuals\u001B[39;00m\n\u001B[0;32m     20\u001B[0m \u001B[38;5;66;03m# Increment the day count\u001B[39;00m\n\u001B[1;32m---> 21\u001B[0m day_count \u001B[38;5;241m+\u001B[39m\u001B[38;5;241m=\u001B[39m \u001B[38;5;241m1\u001B[39m\n\u001B[0;32m     23\u001B[0m \u001B[38;5;66;03m# Break the loop if the population reaches zero to prevent an infinite loop\u001B[39;00m\n\u001B[0;32m     24\u001B[0m \u001B[38;5;28;01mif\u001B[39;00m current_population \u001B[38;5;241m<\u001B[39m\u001B[38;5;241m=\u001B[39m \u001B[38;5;241m0\u001B[39m:\n",
      "\u001B[1;31mKeyboardInterrupt\u001B[0m: "
     ]
    }
   ],
   "source": [
    "# Revising the approach to ensure the loop terminates correctly\n",
    "\n",
    "# Reset initial conditions\n",
    "initial_population = 100\n",
    "daily_mortality_rate = 0.05\n",
    "\n",
    "# Using a different approach to track the survival and deaths\n",
    "current_population = initial_population\n",
    "day_count = 0\n",
    "\n",
    "# Run the simulation until all individuals have died\n",
    "while current_population > 0:\n",
    "    # Calculate the number of deaths for the day\n",
    "    daily_deaths = current_population * daily_mortality_rate\n",
    "    \n",
    "    # Update the current population, subtracting the deaths, rounded to handle very small numbers gracefully\n",
    "    current_population -= daily_deaths\n",
    "    current_population = max(0, round(current_population, 2))  # Avoiding fractions of individuals\n",
    "    \n",
    "    # Increment the day count\n",
    "    day_count += 1\n",
    "\n",
    "    # Break the loop if the population reaches zero to prevent an infinite loop\n",
    "    if current_population <= 0:\n",
    "        break\n",
    "\n",
    "# Since the loop counts the total number of days until the last individual dies,\n",
    "# the average lifespan can be approximated by the total days the process runs,\n",
    "# assuming a uniform distribution of deaths across the population.\n",
    "average_lifespan = day_count\n",
    "\n",
    "average_lifespan"
   ]
  },
  {
   "cell_type": "code",
   "outputs": [
    {
     "data": {
      "text/plain": "1.3668638149744508"
     },
     "execution_count": 5,
     "metadata": {},
     "output_type": "execute_result"
    }
   ],
   "source": [
    "1/(0.85*np.exp(-3/20))"
   ],
   "metadata": {
    "collapsed": false,
    "ExecuteTime": {
     "end_time": "2024-04-05T23:44:17.995639Z",
     "start_time": "2024-04-05T23:44:17.973374Z"
    }
   },
   "id": "40c47019f506b068",
   "execution_count": 5
  },
  {
   "cell_type": "code",
   "outputs": [],
   "source": [
    "import numpy as np"
   ],
   "metadata": {
    "collapsed": false,
    "ExecuteTime": {
     "end_time": "2024-04-05T23:44:16.422302Z",
     "start_time": "2024-04-05T23:44:16.146815Z"
    }
   },
   "id": "561fe7b771a168fd",
   "execution_count": 4
  },
  {
   "cell_type": "code",
   "outputs": [
    {
     "data": {
      "text/plain": "0.7316017799612992"
     },
     "execution_count": 6,
     "metadata": {},
     "output_type": "execute_result"
    }
   ],
   "source": [
    "0.85*np.exp(-3/20)"
   ],
   "metadata": {
    "collapsed": false,
    "ExecuteTime": {
     "end_time": "2024-04-05T23:44:44.196562Z",
     "start_time": "2024-04-05T23:44:44.184561Z"
    }
   },
   "id": "1c649902bbe7dfde",
   "execution_count": 6
  },
  {
   "cell_type": "code",
   "outputs": [
    {
     "data": {
      "text/plain": "0.12910619646375868"
     },
     "execution_count": 7,
     "metadata": {},
     "output_type": "execute_result"
    }
   ],
   "source": [
    "0.15*np.exp(-3/20)"
   ],
   "metadata": {
    "collapsed": false,
    "ExecuteTime": {
     "end_time": "2024-04-05T23:45:00.738031Z",
     "start_time": "2024-04-05T23:45:00.719759Z"
    }
   },
   "id": "f452eedb4991d72b",
   "execution_count": 7
  },
  {
   "cell_type": "code",
   "outputs": [
    {
     "data": {
      "text/plain": "7.745561618188554"
     },
     "execution_count": 8,
     "metadata": {},
     "output_type": "execute_result"
    }
   ],
   "source": [
    "1/(0.15*np.exp(-3/20))"
   ],
   "metadata": {
    "collapsed": false,
    "ExecuteTime": {
     "end_time": "2024-04-05T23:45:06.393186Z",
     "start_time": "2024-04-05T23:45:06.384102Z"
    }
   },
   "id": "1ace4cf329b9a94d",
   "execution_count": 8
  },
  {
   "cell_type": "code",
   "outputs": [],
   "source": [],
   "metadata": {
    "collapsed": false
   },
   "id": "bd3e4d9e1dbeaa2b"
  }
 ],
 "metadata": {
  "kernelspec": {
   "display_name": "Python 3",
   "language": "python",
   "name": "python3"
  },
  "language_info": {
   "codemirror_mode": {
    "name": "ipython",
    "version": 2
   },
   "file_extension": ".py",
   "mimetype": "text/x-python",
   "name": "python",
   "nbconvert_exporter": "python",
   "pygments_lexer": "ipython2",
   "version": "2.7.6"
  }
 },
 "nbformat": 4,
 "nbformat_minor": 5
}
