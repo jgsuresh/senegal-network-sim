{
 "cells": [
  {
   "cell_type": "code",
   "execution_count": 1,
   "id": "initial_id",
   "metadata": {
    "collapsed": true,
    "ExecuteTime": {
     "end_time": "2024-04-23T19:33:49.613555Z",
     "start_time": "2024-04-23T19:33:49.119088Z"
    }
   },
   "outputs": [],
   "source": [
    "import numpy as np"
   ]
  },
  {
   "cell_type": "code",
   "outputs": [],
   "source": [
    "# Generate two random parent genotypes\n",
    "g1 = np.random.randint(0, 2, 100)\n",
    "g2 = np.random.randint(0, 2, 100)"
   ],
   "metadata": {
    "collapsed": false,
    "ExecuteTime": {
     "end_time": "2024-04-23T19:34:08.825840Z",
     "start_time": "2024-04-23T19:34:08.806759Z"
    }
   },
   "id": "ac0545ac90d9d247",
   "execution_count": 4
  },
  {
   "cell_type": "code",
   "outputs": [],
   "source": [
    "def ibs(s1, s2):\n",
    "    return np.sum(s1 == s2) / len(s1)"
   ],
   "metadata": {
    "collapsed": false,
    "ExecuteTime": {
     "end_time": "2024-04-23T19:34:25.025421Z",
     "start_time": "2024-04-23T19:34:25.013421Z"
    }
   },
   "id": "6d6d58ea37a4a1c5",
   "execution_count": 6
  },
  {
   "cell_type": "code",
   "outputs": [
    {
     "data": {
      "text/plain": "0.47"
     },
     "execution_count": 7,
     "metadata": {},
     "output_type": "execute_result"
    }
   ],
   "source": [
    "ibs(g1,g2)"
   ],
   "metadata": {
    "collapsed": false,
    "ExecuteTime": {
     "end_time": "2024-04-23T19:34:28.226581Z",
     "start_time": "2024-04-23T19:34:28.209444Z"
    }
   },
   "id": "3f3e540619ddfdac",
   "execution_count": 7
  },
  {
   "cell_type": "code",
   "outputs": [],
   "source": [
    "def offspring(p1,p2,n_offspring):\n",
    "    for i in range(n_offspring):\n",
    "        yield np.random.choice(p1, len(p1))\n",
    "        yield np.random.choice(p2, len(p2))"
   ],
   "metadata": {
    "collapsed": false,
    "ExecuteTime": {
     "end_time": "2024-04-23T19:35:00.879540Z",
     "start_time": "2024-04-23T19:35:00.865450Z"
    }
   },
   "id": "841791b1723f658",
   "execution_count": 8
  },
  {
   "cell_type": "code",
   "outputs": [
    {
     "ename": "SyntaxError",
     "evalue": "invalid syntax (2375529568.py, line 1)",
     "output_type": "error",
     "traceback": [
      "\u001B[1;36m  Cell \u001B[1;32mIn[9], line 1\u001B[1;36m\u001B[0m\n\u001B[1;33m    def offspring(g1,g2)\u001B[0m\n\u001B[1;37m                        ^\u001B[0m\n\u001B[1;31mSyntaxError\u001B[0m\u001B[1;31m:\u001B[0m invalid syntax\n"
     ]
    }
   ],
   "source": [
    "def offspring(g1,g2)"
   ],
   "metadata": {
    "collapsed": false,
    "ExecuteTime": {
     "end_time": "2024-04-23T19:35:06.482838Z",
     "start_time": "2024-04-23T19:35:06.462705Z"
    }
   },
   "id": "51b80fea7ce8db19",
   "execution_count": 9
  },
  {
   "cell_type": "code",
   "outputs": [],
   "source": [],
   "metadata": {
    "collapsed": false
   },
   "id": "3a0fe5d50973e42e"
  }
 ],
 "metadata": {
  "kernelspec": {
   "display_name": "Python 3",
   "language": "python",
   "name": "python3"
  },
  "language_info": {
   "codemirror_mode": {
    "name": "ipython",
    "version": 2
   },
   "file_extension": ".py",
   "mimetype": "text/x-python",
   "name": "python",
   "nbconvert_exporter": "python",
   "pygments_lexer": "ipython2",
   "version": "2.7.6"
  }
 },
 "nbformat": 4,
 "nbformat_minor": 5
}
