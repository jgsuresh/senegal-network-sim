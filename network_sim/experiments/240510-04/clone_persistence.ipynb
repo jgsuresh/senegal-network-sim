{
 "cells": [
  {
   "cell_type": "code",
   "execution_count": 2,
   "id": "initial_id",
   "metadata": {
    "is_executing": true
   },
   "outputs": [],
   "source": [
    "import pandas as pd\n",
    "import numpy as np\n",
    "import matplotlib.pyplot as plt\n",
    "import seaborn as sns\n",
    "\n",
    "df = pd.read_csv(\"infection_genotypes.csv\")"
   ]
  },
  {
   "cell_type": "code",
   "execution_count": 3,
   "id": "cfae7459ce823ade",
   "metadata": {
    "ExecuteTime": {
     "end_time": "2024-05-10T22:35:12.842556Z",
     "start_time": "2024-05-10T22:35:12.815315Z"
    }
   },
   "outputs": [
    {
     "data": {
      "text/html": [
       "<div>\n",
       "<style scoped>\n",
       "    .dataframe tbody tr th:only-of-type {\n",
       "        vertical-align: middle;\n",
       "    }\n",
       "\n",
       "    .dataframe tbody tr th {\n",
       "        vertical-align: top;\n",
       "    }\n",
       "\n",
       "    .dataframe thead th {\n",
       "        text-align: right;\n",
       "    }\n",
       "</style>\n",
       "<table border=\"1\" class=\"dataframe\">\n",
       "  <thead>\n",
       "    <tr style=\"text-align: right;\">\n",
       "      <th></th>\n",
       "      <th>human_id</th>\n",
       "      <th>t</th>\n",
       "      <th>SNP_0</th>\n",
       "      <th>SNP_1</th>\n",
       "      <th>SNP_2</th>\n",
       "      <th>SNP_3</th>\n",
       "      <th>SNP_4</th>\n",
       "      <th>SNP_5</th>\n",
       "      <th>SNP_6</th>\n",
       "      <th>SNP_7</th>\n",
       "      <th>...</th>\n",
       "      <th>SNP_14</th>\n",
       "      <th>SNP_15</th>\n",
       "      <th>SNP_16</th>\n",
       "      <th>SNP_17</th>\n",
       "      <th>SNP_18</th>\n",
       "      <th>SNP_19</th>\n",
       "      <th>SNP_20</th>\n",
       "      <th>SNP_21</th>\n",
       "      <th>SNP_22</th>\n",
       "      <th>SNP_23</th>\n",
       "    </tr>\n",
       "  </thead>\n",
       "  <tbody>\n",
       "    <tr>\n",
       "      <th>0</th>\n",
       "      <td>7886</td>\n",
       "      <td>0</td>\n",
       "      <td>0</td>\n",
       "      <td>0</td>\n",
       "      <td>0</td>\n",
       "      <td>1</td>\n",
       "      <td>0</td>\n",
       "      <td>0</td>\n",
       "      <td>0</td>\n",
       "      <td>1</td>\n",
       "      <td>...</td>\n",
       "      <td>0</td>\n",
       "      <td>1</td>\n",
       "      <td>1</td>\n",
       "      <td>0</td>\n",
       "      <td>0</td>\n",
       "      <td>0</td>\n",
       "      <td>0</td>\n",
       "      <td>0</td>\n",
       "      <td>1</td>\n",
       "      <td>1</td>\n",
       "    </tr>\n",
       "    <tr>\n",
       "      <th>1</th>\n",
       "      <td>5064</td>\n",
       "      <td>0</td>\n",
       "      <td>0</td>\n",
       "      <td>0</td>\n",
       "      <td>1</td>\n",
       "      <td>0</td>\n",
       "      <td>1</td>\n",
       "      <td>1</td>\n",
       "      <td>1</td>\n",
       "      <td>0</td>\n",
       "      <td>...</td>\n",
       "      <td>1</td>\n",
       "      <td>1</td>\n",
       "      <td>0</td>\n",
       "      <td>1</td>\n",
       "      <td>1</td>\n",
       "      <td>0</td>\n",
       "      <td>1</td>\n",
       "      <td>1</td>\n",
       "      <td>1</td>\n",
       "      <td>0</td>\n",
       "    </tr>\n",
       "    <tr>\n",
       "      <th>2</th>\n",
       "      <td>2314</td>\n",
       "      <td>0</td>\n",
       "      <td>0</td>\n",
       "      <td>0</td>\n",
       "      <td>0</td>\n",
       "      <td>1</td>\n",
       "      <td>1</td>\n",
       "      <td>0</td>\n",
       "      <td>0</td>\n",
       "      <td>0</td>\n",
       "      <td>...</td>\n",
       "      <td>1</td>\n",
       "      <td>0</td>\n",
       "      <td>1</td>\n",
       "      <td>0</td>\n",
       "      <td>1</td>\n",
       "      <td>0</td>\n",
       "      <td>1</td>\n",
       "      <td>0</td>\n",
       "      <td>0</td>\n",
       "      <td>0</td>\n",
       "    </tr>\n",
       "    <tr>\n",
       "      <th>3</th>\n",
       "      <td>3715</td>\n",
       "      <td>0</td>\n",
       "      <td>1</td>\n",
       "      <td>1</td>\n",
       "      <td>0</td>\n",
       "      <td>0</td>\n",
       "      <td>1</td>\n",
       "      <td>1</td>\n",
       "      <td>0</td>\n",
       "      <td>0</td>\n",
       "      <td>...</td>\n",
       "      <td>0</td>\n",
       "      <td>1</td>\n",
       "      <td>1</td>\n",
       "      <td>1</td>\n",
       "      <td>1</td>\n",
       "      <td>1</td>\n",
       "      <td>0</td>\n",
       "      <td>1</td>\n",
       "      <td>1</td>\n",
       "      <td>0</td>\n",
       "    </tr>\n",
       "    <tr>\n",
       "      <th>4</th>\n",
       "      <td>9050</td>\n",
       "      <td>0</td>\n",
       "      <td>0</td>\n",
       "      <td>1</td>\n",
       "      <td>0</td>\n",
       "      <td>1</td>\n",
       "      <td>1</td>\n",
       "      <td>1</td>\n",
       "      <td>0</td>\n",
       "      <td>1</td>\n",
       "      <td>...</td>\n",
       "      <td>1</td>\n",
       "      <td>1</td>\n",
       "      <td>1</td>\n",
       "      <td>0</td>\n",
       "      <td>1</td>\n",
       "      <td>0</td>\n",
       "      <td>1</td>\n",
       "      <td>0</td>\n",
       "      <td>1</td>\n",
       "      <td>0</td>\n",
       "    </tr>\n",
       "  </tbody>\n",
       "</table>\n",
       "<p>5 rows × 26 columns</p>\n",
       "</div>"
      ],
      "text/plain": [
       "   human_id  t  SNP_0  SNP_1  SNP_2  SNP_3  SNP_4  SNP_5  SNP_6  SNP_7  ...  \\\n",
       "0      7886  0      0      0      0      1      0      0      0      1  ...   \n",
       "1      5064  0      0      0      1      0      1      1      1      0  ...   \n",
       "2      2314  0      0      0      0      1      1      0      0      0  ...   \n",
       "3      3715  0      1      1      0      0      1      1      0      0  ...   \n",
       "4      9050  0      0      1      0      1      1      1      0      1  ...   \n",
       "\n",
       "   SNP_14  SNP_15  SNP_16  SNP_17  SNP_18  SNP_19  SNP_20  SNP_21  SNP_22  \\\n",
       "0       0       1       1       0       0       0       0       0       1   \n",
       "1       1       1       0       1       1       0       1       1       1   \n",
       "2       1       0       1       0       1       0       1       0       0   \n",
       "3       0       1       1       1       1       1       0       1       1   \n",
       "4       1       1       1       0       1       0       1       0       1   \n",
       "\n",
       "   SNP_23  \n",
       "0       1  \n",
       "1       0  \n",
       "2       0  \n",
       "3       0  \n",
       "4       0  \n",
       "\n",
       "[5 rows x 26 columns]"
      ]
     },
     "execution_count": 3,
     "metadata": {},
     "output_type": "execute_result"
    }
   ],
   "source": [
    "df.head()"
   ]
  },
  {
   "cell_type": "code",
   "execution_count": 4,
   "id": "168aef27d079df83",
   "metadata": {
    "ExecuteTime": {
     "end_time": "2024-05-10T22:36:11.695877Z",
     "start_time": "2024-05-10T22:36:07.661612Z"
    }
   },
   "outputs": [],
   "source": [
    "all_genomes = df[[f\"SNP_{i}\" for i in range(24)]].values\n",
    "df[\"genotype\"] = all_genomes.tolist()"
   ]
  },
  {
   "cell_type": "code",
   "execution_count": 5,
   "id": "9e0a6e4b",
   "metadata": {},
   "outputs": [],
   "source": [
    "df_t = df[df[\"t\"]==0]"
   ]
  },
  {
   "cell_type": "code",
   "execution_count": 17,
   "id": "c594f662",
   "metadata": {},
   "outputs": [],
   "source": [
    "import hashlib\n",
    "import numpy as np\n",
    "\n",
    "def hash_array(array):\n",
    "    # Convert the array to bytes\n",
    "    array_bytes = array.tobytes()\n",
    "\n",
    "    # Create a hash of the bytes\n",
    "    hash_object = hashlib.md5(array_bytes)\n",
    "\n",
    "    # Convert the hash object to a hexadecimal string\n",
    "    hash_hex = hash_object.hexdigest()\n",
    "\n",
    "    return hash_hex"
   ]
  },
  {
   "cell_type": "code",
   "execution_count": 18,
   "id": "defa10cc",
   "metadata": {},
   "outputs": [
    {
     "data": {
      "text/plain": [
       "list"
      ]
     },
     "execution_count": 18,
     "metadata": {},
     "output_type": "execute_result"
    }
   ],
   "source": [
    "type(df_t[\"genotype\"].iloc[0])"
   ]
  },
  {
   "cell_type": "code",
   "execution_count": 20,
   "id": "f6421153",
   "metadata": {},
   "outputs": [],
   "source": [
    "df[\"genotype_hash\"] = df[\"genotype\"].apply(lambda x: hash_array(np.array(x)))"
   ]
  },
  {
   "cell_type": "code",
   "execution_count": 21,
   "id": "1ef34718",
   "metadata": {},
   "outputs": [
    {
     "data": {
      "text/plain": [
       "0          0abe4d0a49f41ac83fa1953ec81e9b33\n",
       "1          46b39876c54bf142bb0a0415d23a4bc6\n",
       "2          0519f838e8c59a77417dba9ff04a6c07\n",
       "3          f31657e3c3e57dd14f8ea27483b93faa\n",
       "4          a091c1636490768eeb4a0abcf5db1d8d\n",
       "                         ...               \n",
       "1713694    0d5702f721ec080b2fbb101b8c55cae4\n",
       "1713695    452582aaddea9a49f5d6f5881674213b\n",
       "1713696    9ee681d6db0723fcdacb7069e375de27\n",
       "1713697    0e6e3a3f179dfdfd29359215e059a977\n",
       "1713698    863aab4e1508b0be917853044979f409\n",
       "Name: genotype_hash, Length: 1713699, dtype: object"
      ]
     },
     "execution_count": 21,
     "metadata": {},
     "output_type": "execute_result"
    }
   ],
   "source": [
    "df[\"genotype_hash\"]"
   ]
  },
  {
   "cell_type": "code",
   "execution_count": 27,
   "id": "31917f3f",
   "metadata": {},
   "outputs": [],
   "source": [
    "foo = df.groupby('genotype_hash')['t'].agg(lambda x: x.max() - x.min()).reset_index()"
   ]
  },
  {
   "cell_type": "code",
   "execution_count": 30,
   "id": "987ec8e3",
   "metadata": {},
   "outputs": [
    {
     "data": {
      "text/plain": [
       "(array([1.3320e+03, 6.2200e+02, 1.1350e+03, 5.2600e+02, 1.0020e+03,\n",
       "        3.7940e+03, 2.9321e+04, 4.3500e+02, 8.8100e+02, 4.3400e+02,\n",
       "        8.5100e+02, 4.3100e+02, 8.9700e+02, 3.3700e+02, 3.0800e+02,\n",
       "        1.4100e+02, 2.5400e+02, 1.0300e+02, 2.1100e+02, 8.7000e+01,\n",
       "        1.3600e+02, 6.1000e+01, 1.0800e+02, 6.0000e+01, 9.8000e+01,\n",
       "        3.8000e+01, 7.5000e+01, 3.7000e+01, 5.7000e+01, 3.0000e+01,\n",
       "        6.0000e+01, 3.1000e+01, 4.3000e+01, 2.0000e+01, 5.6000e+01,\n",
       "        2.4000e+01, 4.7000e+01, 2.8000e+01, 3.3000e+01, 2.0000e+01,\n",
       "        2.9000e+01, 1.6000e+01, 2.8000e+01, 1.1000e+01, 2.0000e+01,\n",
       "        1.5000e+01, 2.3000e+01, 1.2000e+01, 1.9000e+01, 1.5000e+01,\n",
       "        9.0000e+00, 1.7000e+01, 1.1000e+01, 2.3000e+01, 5.0000e+00,\n",
       "        2.1000e+01, 3.0000e+00, 1.7000e+01, 8.0000e+00, 1.5000e+01,\n",
       "        1.1000e+01, 1.5000e+01, 5.0000e+00, 7.0000e+00, 5.0000e+00,\n",
       "        5.0000e+00, 4.0000e+00, 1.1000e+01, 9.0000e+00, 6.0000e+00,\n",
       "        3.0000e+00, 9.0000e+00, 5.0000e+00, 9.0000e+00, 4.0000e+00,\n",
       "        2.0000e+00, 5.0000e+00, 1.4000e+01, 6.0000e+00, 9.0000e+00,\n",
       "        3.0000e+00, 5.0000e+00, 4.0000e+00, 4.0000e+00, 2.0000e+00,\n",
       "        4.0000e+00, 1.0000e+00, 6.0000e+00, 4.0000e+00, 7.0000e+00,\n",
       "        1.0000e+00, 3.0000e+00, 0.0000e+00, 4.0000e+00, 4.0000e+00,\n",
       "        4.0000e+00, 0.0000e+00, 5.0000e+00, 2.0000e+00, 1.1500e+02]),\n",
       " array([   0. ,   14.9,   29.8,   44.7,   59.6,   74.5,   89.4,  104.3,\n",
       "         119.2,  134.1,  149. ,  163.9,  178.8,  193.7,  208.6,  223.5,\n",
       "         238.4,  253.3,  268.2,  283.1,  298. ,  312.9,  327.8,  342.7,\n",
       "         357.6,  372.5,  387.4,  402.3,  417.2,  432.1,  447. ,  461.9,\n",
       "         476.8,  491.7,  506.6,  521.5,  536.4,  551.3,  566.2,  581.1,\n",
       "         596. ,  610.9,  625.8,  640.7,  655.6,  670.5,  685.4,  700.3,\n",
       "         715.2,  730.1,  745. ,  759.9,  774.8,  789.7,  804.6,  819.5,\n",
       "         834.4,  849.3,  864.2,  879.1,  894. ,  908.9,  923.8,  938.7,\n",
       "         953.6,  968.5,  983.4,  998.3, 1013.2, 1028.1, 1043. , 1057.9,\n",
       "        1072.8, 1087.7, 1102.6, 1117.5, 1132.4, 1147.3, 1162.2, 1177.1,\n",
       "        1192. , 1206.9, 1221.8, 1236.7, 1251.6, 1266.5, 1281.4, 1296.3,\n",
       "        1311.2, 1326.1, 1341. , 1355.9, 1370.8, 1385.7, 1400.6, 1415.5,\n",
       "        1430.4, 1445.3, 1460.2, 1475.1, 1490. ]),\n",
       " <BarContainer object of 100 artists>)"
      ]
     },
     "execution_count": 30,
     "metadata": {},
     "output_type": "execute_result"
    },
    {
     "data": {
      "image/png": "[encoded data removed]",
      "text/plain": [
       "<Figure size 640x480 with 1 Axes>"
      ]
     },
     "metadata": {},
     "output_type": "display_data"
    }
   ],
   "source": [
    "plt.hist(foo[\"t\"], bins=100)"
   ]
  },
  {
   "cell_type": "code",
   "execution_count": 31,
   "id": "67159a32",
   "metadata": {},
   "outputs": [
    {
     "data": {
      "text/plain": [
       "1490"
      ]
     },
     "execution_count": 31,
     "metadata": {},
     "output_type": "execute_result"
    }
   ],
   "source": [
    "np.max(foo[\"t\"])"
   ]
  },
  {
   "cell_type": "code",
   "execution_count": 32,
   "id": "8487cd08",
   "metadata": {},
   "outputs": [
    {
     "data": {
      "text/plain": [
       "count    44803.000000\n",
       "mean       113.660692\n",
       "std        128.684258\n",
       "min          0.000000\n",
       "25%         90.000000\n",
       "50%         90.000000\n",
       "75%         90.000000\n",
       "max       1490.000000\n",
       "Name: t, dtype: float64"
      ]
     },
     "execution_count": 32,
     "metadata": {},
     "output_type": "execute_result"
    }
   ],
   "source": [
    "foo[\"t\"].describe()"
   ]
  },
  {
   "cell_type": "code",
   "execution_count": null,
   "id": "37f5005d",
   "metadata": {},
   "outputs": [],
   "source": []
  },
  {
   "cell_type": "code",
   "execution_count": null,
   "id": "68298bf818ba9062",
   "metadata": {},
   "outputs": [],
   "source": [
    "# Create a unique hash for each genotype\n",
    "df[\"genotype_hash\"] = df[\"genotype\"].apply(lambda x: hash(tuple(x)))"
   ]
  },
  {
   "cell_type": "code",
   "execution_count": null,
   "id": "9ae8451db1d8a06b",
   "metadata": {
    "is_executing": true
   },
   "outputs": [],
   "source": [
    "df[\"genotype\"].apply(lambda x: np.hash(tuple(x)))"
   ]
  },
  {
   "cell_type": "code",
   "execution_count": null,
   "id": "9f57632c79426603",
   "metadata": {},
   "outputs": [],
   "source": []
  }
 ],
 "metadata": {
  "kernelspec": {
   "display_name": "Python 3 (ipykernel)",
   "language": "python",
   "name": "python3"
  },
  "language_info": {
   "codemirror_mode": {
    "name": "ipython",
    "version": 3
   },
   "file_extension": ".py",
   "mimetype": "text/x-python",
   "name": "python",
   "nbconvert_exporter": "python",
   "pygments_lexer": "ipython3",
   "version": "3.9.13"
  }
 },
 "nbformat": 4,
 "nbformat_minor": 5
}
